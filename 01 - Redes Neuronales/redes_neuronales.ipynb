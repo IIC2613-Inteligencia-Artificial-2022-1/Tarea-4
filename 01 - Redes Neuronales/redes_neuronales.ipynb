{
 "cells": [
  {
   "cell_type": "markdown",
   "metadata": {
    "id": "1cS5L2X7uwAg"
   },
   "source": [
    "# Tarea 4: Redes Neuronales"
   ]
  },
  {
   "cell_type": "code",
   "execution_count": null,
   "metadata": {},
   "outputs": [],
   "source": [
    "# Creamos un seed para que los datos sean replicables.\n",
    "import numpy as np\n",
    "\n",
    "np.random.seed(121212)"
   ]
  },
  {
   "cell_type": "markdown",
   "metadata": {
    "id": "hZp-GMk7u19i"
   },
   "source": [
    "## Actividad 1: Comprendiendo los datos"
   ]
  },
  {
   "cell_type": "markdown",
   "metadata": {
    "id": "jV4jJwkc6rYW"
   },
   "source": [
    "## Actividad 2: Optimizador Adam"
   ]
  },
  {
   "cell_type": "markdown",
   "metadata": {
    "id": "dcgIlGuw7EGC"
   },
   "source": [
    "## Actividad 3: Red Neuronal Densa"
   ]
  },
  {
   "cell_type": "markdown",
   "metadata": {
    "id": "gpqhBv7u8EYh"
   },
   "source": [
    "## Actividad 4: Introducción a las CNN’s"
   ]
  },
  {
   "cell_type": "markdown",
   "metadata": {
    "id": "EQQ9NoNo8-j1"
   },
   "source": [
    "## Actividad 5: Creando una CNN clasificadora"
   ]
  },
  {
   "cell_type": "markdown",
   "metadata": {
    "id": "_kR8Y0Vt9aNg"
   },
   "source": [
    "## Actividad 6: Comparación de modelos"
   ]
  },
  {
   "cell_type": "markdown",
   "metadata": {
    "id": "pkhchTf1958T"
   },
   "source": [
    "## Actividad 7: Probando con audios propios"
   ]
  },
  {
   "cell_type": "code",
   "execution_count": null,
   "metadata": {},
   "outputs": [],
   "source": [
    "# Para instalar pydub, descomenta:\n",
    "# !pip install pydub"
   ]
  },
  {
   "cell_type": "markdown",
   "metadata": {},
   "source": [
    "Función que recibe un archivo `.wav` y entrega un diccionario con los labels y MFCCs de cada segmento"
   ]
  },
  {
   "cell_type": "code",
   "execution_count": null,
   "metadata": {
    "id": "BowiBp8F9631"
   },
   "outputs": [],
   "source": [
    "from pydub import AudioSegment\n",
    "import librosa\n",
    "import math\n",
    "import json\n",
    "\n",
    "def get_mfccs(file_path, label, num_mfcc=13, n_fft=2048, hop_length=512, num_segments=10):\n",
    "    \"\"\"Extrae los MFCCs de los primeros 30 segundos de una canción.\n",
    "        :param file_path (str): Path del archivo\n",
    "        :param label (int): Label\n",
    "        :param num_mfcc (int): Número de los coeficientes a extraer\n",
    "        :param n_fft (int): Intervalo en el que se realiza FFT.\n",
    "        :param hop_length (int): Sliding window para FFT.\n",
    "        :param: num_segments (int): Número de segementos en los que se dividirá la cación.\n",
    "        :return:\n",
    "        :param data: data[labels]: label de los segmentos\n",
    "                     data[mfcc]: mfcc de cada segmento. Tamaño: (10, 130, 13)\n",
    "    \"\"\"\n",
    "\n",
    "    # se seleccionan los primeros 30 segundos de la canción\n",
    "    audio_file = AudioSegment.from_file(file_path)\n",
    "    if len(audio_file) < 30000:\n",
    "      print(\"Archivo dura menos de 30 segundos.\")\n",
    "      return None\n",
    "\n",
    "    # se guardan los primeros 30 segundos en el archivo audio_part.wav\n",
    "    audio_part = audio_file[: 30000]\n",
    "    audio_part.export(\"audio_part.wav\")\n",
    "\n",
    "    # se definen variables\n",
    "    sample_rate = 22050\n",
    "    track_duration = 30\n",
    "    samples_per_track = sample_rate * track_duration\n",
    "\n",
    "    data = {\n",
    "        \"labels\": [],\n",
    "        \"mfcc\": []\n",
    "    }\n",
    "\n",
    "    samples_per_segment = int(samples_per_track / num_segments)\n",
    "    num_mfcc_vectors_per_segment = math.ceil(samples_per_segment / hop_length)\n",
    "\n",
    "    # se carga el archivo de audio modificado\n",
    "    signal, sample_rate = librosa.load(\"audio_part.wav\", sr=sample_rate)\n",
    "\n",
    "    # se procesan los segmentos del archivo\n",
    "    for d in range(num_segments):\n",
    "\n",
    "      # se calcula el inicio y final de cada segmento\n",
    "      start = samples_per_segment * d\n",
    "      finish = start + samples_per_segment\n",
    "\n",
    "      # se extraen los mfcc\n",
    "      mfcc = librosa.feature.mfcc(signal[start:finish], sample_rate, n_mfcc=num_mfcc, n_fft=n_fft, hop_length=hop_length)\n",
    "      mfcc = mfcc.T\n",
    "\n",
    "      # se guardan los mfcc si tienen el mismo tamaño que el esperado\n",
    "      if len(mfcc) == num_mfcc_vectors_per_segment:\n",
    "        data[\"mfcc\"].append(mfcc.tolist())\n",
    "        data[\"labels\"].append(label)\n",
    "\n",
    "    return data"
   ]
  }
 ],
 "metadata": {
  "colab": {
   "name": "NotebookBaseT4.ipynb",
   "provenance": []
  },
  "kernelspec": {
   "display_name": "Python 3 (ipykernel)",
   "language": "python",
   "name": "python3"
  },
  "language_info": {
   "codemirror_mode": {
    "name": "ipython",
    "version": 3
   },
   "file_extension": ".py",
   "mimetype": "text/x-python",
   "name": "python",
   "nbconvert_exporter": "python",
   "pygments_lexer": "ipython3",
   "version": "3.9.7"
  }
 },
 "nbformat": 4,
 "nbformat_minor": 1
}
